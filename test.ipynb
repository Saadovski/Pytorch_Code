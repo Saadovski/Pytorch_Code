{
 "cells": [
  {
   "cell_type": "code",
   "execution_count": 1,
   "metadata": {},
   "outputs": [],
   "source": [
    "import List_to_Pytorch_Dataset\n",
    "import math"
   ]
  },
  {
   "cell_type": "code",
   "execution_count": 2,
   "metadata": {},
   "outputs": [],
   "source": [
    "dataset = List_to_Pytorch_Dataset.MobifallData(augment=False)"
   ]
  },
  {
   "cell_type": "code",
   "execution_count": 8,
   "metadata": {},
   "outputs": [
    {
     "name": "stdout",
     "output_type": "stream",
     "text": [
      "191\n"
     ]
    }
   ],
   "source": [
    "print(len([elem for elem in dataset if elem[1] == 13]))"
   ]
  },
  {
   "cell_type": "code",
   "execution_count": 3,
   "metadata": {},
   "outputs": [
    {
     "name": "stdout",
     "output_type": "stream",
     "text": [
      "3197\n",
      "250\n"
     ]
    }
   ],
   "source": [
    "print(len(dataset))\n",
    "print(len(dataset[0][0][0]))"
   ]
  },
  {
   "cell_type": "code",
   "execution_count": 4,
   "metadata": {},
   "outputs": [],
   "source": [
    "\n",
    "for i in range(len(dataset)):\n",
    "    for j in range(6):\n",
    "        if len(dataset[i][0][j]) != 250:\n",
    "            print(f\"error, length = {len(dataset[i][0][j])} at index {i}, {j}\")"
   ]
  },
  {
   "cell_type": "code",
   "execution_count": 2,
   "metadata": {},
   "outputs": [],
   "source": [
    "def conv_output_size(kernel_size, input_size, stride, padding):\n",
    "    return math.ceil((input_size - kernel_size + 2*padding + 1) / stride)"
   ]
  },
  {
   "cell_type": "code",
   "execution_count": 7,
   "metadata": {},
   "outputs": [
    {
     "name": "stdout",
     "output_type": "stream",
     "text": [
      "10\n"
     ]
    }
   ],
   "source": [
    "result = conv_output_size(3, 21, 1, 1)\n",
    "print(conv_output_size(2, result, 2, 0))"
   ]
  },
  {
   "cell_type": "code",
   "execution_count": 3,
   "metadata": {},
   "outputs": [],
   "source": [
    "from math import sqrt\n",
    "\n",
    "def peak_acceleration(sample):\n",
    "    maxi = 0\n",
    "    for i in range(len(sample[0][0])):\n",
    "            acc = sqrt(sample[0][0][i]**2 + sample[0][1][i]**2 + sample[0][2][i]**2)\n",
    "            if acc > maxi:\n",
    "                maxi = acc\n",
    "    return maxi"
   ]
  },
  {
   "cell_type": "code",
   "execution_count": 4,
   "metadata": {},
   "outputs": [
    {
     "name": "stdout",
     "output_type": "stream",
     "text": [
      "16.886192846614676\n",
      "32.88555051084254\n"
     ]
    }
   ],
   "source": [
    "import CSV_to_List\n",
    "from math import sqrt\n",
    "\n",
    "dataset = CSV_to_List.get_dataset(augment=False)\n",
    "\n",
    "maxi = 0\n",
    "maxes = []\n",
    "for sample in dataset:\n",
    "    if sample[1] in [\"FOL\", \"FKL\", \"BSC\", \"SDL\"]:\n",
    "        maxi = peak_acceleration(sample)\n",
    "        maxes.append(maxi)\n",
    "        maxi = 0\n",
    "\n",
    "print(min(maxes))\n",
    "print(max(maxes))\n"
   ]
  },
  {
   "cell_type": "code",
   "execution_count": 12,
   "metadata": {},
   "outputs": [],
   "source": [
    "TP = 0\n",
    "TN = 0\n",
    "FP = 0\n",
    "FN = 0\n",
    "\n",
    "threshold = 20\n",
    "for sample in dataset:\n",
    "    if peak_acceleration(sample) >= threshold:\n",
    "        if sample[1] in [\"FOL\", \"FKL\", \"BSC\", \"SDL\"]:\n",
    "            TP += 1\n",
    "        else:\n",
    "            FP += 1\n",
    "    elif sample[1] in [\"FOL\", \"FKL\", \"BSC\", \"SDL\"]:\n",
    "            FN += 1\n",
    "    else:\n",
    "        TN += 1\n",
    "        "
   ]
  },
  {
   "cell_type": "code",
   "execution_count": 14,
   "metadata": {},
   "outputs": [
    {
     "name": "stdout",
     "output_type": "stream",
     "text": [
      "Specificity : 0.6428571428571429\n",
      "Recall of : 0.9817470664928292\n",
      "Precision : 0.5094722598105548\n",
      "F1-score : 0.6708240534521158\n"
     ]
    }
   ],
   "source": [
    "specificity = float(TN) / float(TN + FP)\n",
    "recall = float(TP) / float(TP + FN)\n",
    "precision = float(TP) / float(TP + FP)\n",
    "F1_score = 2.0/float(1.0 / float(precision) + 1.0 / float(recall))\n",
    "\n",
    "print(\"Specificity : \" + str(specificity))\n",
    "print(\"Recall : \" + str(recall))\n",
    "print(\"Precision : \" + str(precision))\n",
    "print(\"F1-score : \" + str(F1_score))\n"
   ]
  },
  {
   "cell_type": "code",
   "execution_count": 14,
   "metadata": {},
   "outputs": [],
   "source": [
    "number_of_peaks = 0\n",
    "for sample in dataset:\n",
    "    for i in range(len(sample[0][0])):\n",
    "        if sample[0][0][i]**2 + sample[0][1][i]**2 + sample[0][2][i]**2 >= (18+10)**2:\n",
    "            number_of_peaks += 1\n",
    "            break"
   ]
  },
  {
   "cell_type": "code",
   "execution_count": 15,
   "metadata": {},
   "outputs": [
    {
     "name": "stdout",
     "output_type": "stream",
     "text": [
      "0.2223811226313908\n"
     ]
    }
   ],
   "source": [
    "print(float(number_of_peaks)/len(dataset))"
   ]
  },
  {
   "cell_type": "code",
   "execution_count": 2,
   "metadata": {},
   "outputs": [
    {
     "name": "stdout",
     "output_type": "stream",
     "text": [
      "0.8871245716946654\n"
     ]
    }
   ],
   "source": [
    "precision =0.8537072325943447\n",
    "recall = 0.923264652014652\n",
    "F = 2.0 / float(1.0 / float(precision) + 1.0 / float(recall))\n",
    "print(F)"
   ]
  }
 ],
 "metadata": {
  "kernelspec": {
   "display_name": "Python 3.9.1 ('base')",
   "language": "python",
   "name": "python3"
  },
  "language_info": {
   "codemirror_mode": {
    "name": "ipython",
    "version": 3
   },
   "file_extension": ".py",
   "mimetype": "text/x-python",
   "name": "python",
   "nbconvert_exporter": "python",
   "pygments_lexer": "ipython3",
   "version": "3.9.1"
  },
  "orig_nbformat": 4,
  "vscode": {
   "interpreter": {
    "hash": "7e29914317381cb5b054684ec136cf5f9d23d3fafddd70669a3da3e14954aacc"
   }
  }
 },
 "nbformat": 4,
 "nbformat_minor": 2
}
