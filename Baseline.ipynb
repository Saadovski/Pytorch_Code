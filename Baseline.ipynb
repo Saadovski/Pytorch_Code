{
 "cells": [
  {
   "cell_type": "code",
   "execution_count": 1,
   "metadata": {},
   "outputs": [],
   "source": [
    "import CSV_to_List\n",
    "from math import sqrt"
   ]
  },
  {
   "cell_type": "code",
   "execution_count": 2,
   "metadata": {},
   "outputs": [],
   "source": [
    "def peak_acceleration(sample):\n",
    "    maxi = 0\n",
    "    for i in range(len(sample[0][0])):\n",
    "            acc = sqrt(sample[0][0][i]**2 + sample[0][1][i]**2 + sample[0][2][i]**2)\n",
    "            if acc > maxi:\n",
    "                maxi = acc\n",
    "    return maxi"
   ]
  },
  {
   "cell_type": "code",
   "execution_count": null,
   "metadata": {},
   "outputs": [],
   "source": [
    "dataset = CSV_to_List.get_dataset(augment=False)"
   ]
  },
  {
   "cell_type": "code",
   "execution_count": 11,
   "metadata": {},
   "outputs": [
    {
     "name": "stdout",
     "output_type": "stream",
     "text": [
      "9.592739346162151\n",
      "31.652439164226475\n"
     ]
    }
   ],
   "source": [
    "maxi = 0\n",
    "maxes = []\n",
    "for sample in dataset:\n",
    "    if sample[1] not in [\"FOL\", \"FKL\", \"BSC\", \"SDL\"]:\n",
    "        maxi = peak_acceleration(sample)\n",
    "        maxes.append(maxi)\n",
    "        maxi = 0\n",
    "\n",
    "print(min(maxes))\n",
    "print(max(maxes))\n"
   ]
  },
  {
   "cell_type": "code",
   "execution_count": 16,
   "metadata": {},
   "outputs": [
    {
     "data": {
      "text/plain": [
       "Text(0.5, 0, 'Acceleration peak bins')"
      ]
     },
     "execution_count": 16,
     "metadata": {},
     "output_type": "execute_result"
    },
    {
     "data": {
      "image/png": "[encoded data removed]",
      "text/plain": [
       "<Figure size 432x288 with 1 Axes>"
      ]
     },
     "metadata": {
      "needs_background": "light"
     },
     "output_type": "display_data"
    }
   ],
   "source": [
    "import matplotlib.pyplot as plt\n",
    "import numpy as np\n",
    "\n",
    "x = np.array(maxes)\n",
    "\n",
    "plt.hist(x, density=True, bins=32)  # density=False would make counts\n",
    "plt.ylabel('Density')\n",
    "plt.xlabel('Acceleration peak bins')"
   ]
  },
  {
   "cell_type": "code",
   "execution_count": 17,
   "metadata": {},
   "outputs": [],
   "source": [
    "TP = 0\n",
    "TN = 0\n",
    "FP = 0\n",
    "FN = 0\n",
    "\n",
    "threshold = 20\n",
    "for sample in dataset:\n",
    "    if peak_acceleration(sample) < threshold:\n",
    "        if sample[1] not in [\"FOL\", \"FKL\", \"BSC\", \"SDL\"]:\n",
    "            TP += 1\n",
    "        else:\n",
    "            FP += 1\n",
    "    elif sample[1] not in [\"FOL\", \"FKL\", \"BSC\", \"SDL\"]:\n",
    "            FN += 1\n",
    "    else:\n",
    "        TN += 1"
   ]
  },
  {
   "cell_type": "code",
   "execution_count": 18,
   "metadata": {},
   "outputs": [
    {
     "name": "stdout",
     "output_type": "stream",
     "text": [
      "Specificity : 0.9817470664928292\n",
      "Recall : 0.6428571428571429\n",
      "Precision : 0.9893858984078847\n",
      "F1-score : 0.7793371155568827\n"
     ]
    }
   ],
   "source": [
    "specificity = float(TN) / float(TN + FP)\n",
    "recall = float(TP) / float(TP + FN)\n",
    "precision = float(TP) / float(TP + FP)\n",
    "F1_score = 2.0/float(1.0 / float(precision) + 1.0 / float(recall))\n",
    "\n",
    "print(\"Specificity : \" + str(specificity))\n",
    "print(\"Recall : \" + str(recall))\n",
    "print(\"Precision : \" + str(precision))\n",
    "print(\"F1-score : \" + str(F1_score))"
   ]
  }
 ],
 "metadata": {
  "kernelspec": {
   "display_name": "Python 3.9.1 ('base')",
   "language": "python",
   "name": "python3"
  },
  "language_info": {
   "codemirror_mode": {
    "name": "ipython",
    "version": 3
   },
   "file_extension": ".py",
   "mimetype": "text/x-python",
   "name": "python",
   "nbconvert_exporter": "python",
   "pygments_lexer": "ipython3",
   "version": "3.9.1"
  },
  "orig_nbformat": 4,
  "vscode": {
   "interpreter": {
    "hash": "7e29914317381cb5b054684ec136cf5f9d23d3fafddd70669a3da3e14954aacc"
   }
  }
 },
 "nbformat": 4,
 "nbformat_minor": 2
}
